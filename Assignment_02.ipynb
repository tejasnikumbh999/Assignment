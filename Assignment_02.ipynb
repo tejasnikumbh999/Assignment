{
  "nbformat": 4,
  "nbformat_minor": 0,
  "metadata": {
    "colab": {
      "name": "Assignment_02.ipynb",
      "provenance": [],
      "collapsed_sections": [],
      "authorship_tag": "ABX9TyNFvvdcq2ZV8Fa6aTGZX0Mt",
      "include_colab_link": true
    },
    "kernelspec": {
      "name": "python3",
      "display_name": "Python 3"
    },
    "language_info": {
      "name": "python"
    }
  },
  "cells": [
    {
      "cell_type": "markdown",
      "metadata": {
        "id": "view-in-github",
        "colab_type": "text"
      },
      "source": [
        "<a href=\"https://colab.research.google.com/github/tejasnikumbh999/assignment/blob/main/Assignment_02.ipynb\" target=\"_parent\"><img src=\"https://colab.research.google.com/assets/colab-badge.svg\" alt=\"Open In Colab\"/></a>"
      ]
    },
    {
      "cell_type": "code",
      "source": [
        "#install server\n",
        "\n",
        "!pip install dnspython\n",
        "!pip install pymongo[srv]"
      ],
      "metadata": {
        "id": "ED7qT7TNO19X"
      },
      "execution_count": null,
      "outputs": []
    },
    {
      "cell_type": "code",
      "source": [
        "import pymongo\n",
        "from pymongo import MongoClient\n",
        "from PIL import Image\n",
        "import io\n",
        "from termcolor import colored"
      ],
      "metadata": {
        "id": "pqb9_2AaPFUh"
      },
      "execution_count": 3,
      "outputs": []
    },
    {
      "cell_type": "code",
      "source": [
        "client = pymongo.MongoClient(\"mongodb+srv://<username>:<password>@cluster0.o6jct.mongodb.net/myFirstDatabase?retryWrites=true&w=majority\")\n",
        "db = client.Assignment\n",
        "records =db.first"
      ],
      "metadata": {
        "id": "i5Zu_krYPILK"
      },
      "execution_count": 5,
      "outputs": []
    },
    {
      "cell_type": "code",
      "source": [
        "#task 2\n",
        "#Tejas Nikumbh\n",
        "\n",
        "count=3\n",
        "class nuser:\n",
        "  def __init__(self):\n",
        "    nuser.name(self)\n",
        "    nuser.mob(self)\n",
        "    nuser.gmail(self)\n",
        "\n",
        "  def name(self):\n",
        "    n = input('Enter full name:\\t')\n",
        "    n = n.title()\n",
        "    self.Name = n  # enter name\n",
        "  def mob(self):\n",
        "    m = input('Enter mobile number:\\t')  # mail id as input\n",
        "    if m.isdigit() == True and len(m) == 10:\n",
        "      self.Mob_no = m\n",
        "    else:\n",
        "      print('\\nInvalid inputs for Mobile number. Try again.')\n",
        "      nuser.mob(self)\n",
        "  def gmail(self):\n",
        "    g = input('Enter mail id:\\t')  # gmail as input\n",
        "    g = g.lower()\n",
        "    a = records.find_one({'Gmail': g}) is None\n",
        "    if g.endswith(\"@gmail.com\") == True and g[:-10].isalnum() == True and a == True:\n",
        "      self.Gmail = g\n",
        "    else:\n",
        "      print('\\nInvalid inputs for Gmail. Enter again.')\n",
        "      nuser.gmail(self)\n",
        "try:\n",
        "  d = nuser()\n",
        "  records.insert_one(d.__dict__)  # insert the dict1 into records\n",
        "except:\n",
        "  print('Invalid inputs. unsuccessfull.')"
      ],
      "metadata": {
        "id": "yLFbuJ3QTeUa"
      },
      "execution_count": null,
      "outputs": []
    }
  ]
}