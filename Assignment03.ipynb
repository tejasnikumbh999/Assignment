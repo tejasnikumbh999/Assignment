{
  "nbformat": 4,
  "nbformat_minor": 0,
  "metadata": {
    "colab": {
      "name": "Assignment03.ipynb",
      "provenance": [],
      "collapsed_sections": [],
      "mount_file_id": "1xLTaDb49dxsP59wGIilc8MXbDILv2e_C",
      "authorship_tag": "ABX9TyO9oJfjzy0o6DPBCEc8XrFr",
      "include_colab_link": true
    },
    "kernelspec": {
      "name": "python3",
      "display_name": "Python 3"
    },
    "language_info": {
      "name": "python"
    }
  },
  "cells": [
    {
      "cell_type": "markdown",
      "metadata": {
        "id": "view-in-github",
        "colab_type": "text"
      },
      "source": [
        "<a href=\"https://colab.research.google.com/github/tejasnikumbh999/assignment/blob/main/Assignment03.ipynb\" target=\"_parent\"><img src=\"https://colab.research.google.com/assets/colab-badge.svg\" alt=\"Open In Colab\"/></a>"
      ]
    },
    {
      "cell_type": "code",
      "source": [
        "#install server\n",
        "\n",
        "!pip install dnspython\n",
        "!pip install pymongo[srv]"
      ],
      "metadata": {
        "id": "dXzVIrXSkV-4"
      },
      "execution_count": null,
      "outputs": []
    },
    {
      "cell_type": "code",
      "execution_count": null,
      "metadata": {
        "id": "Q0uK9bRaaAAh"
      },
      "outputs": [],
      "source": [
        "#Assignment 02\n",
        "\n",
        "import pymongo\n",
        "from pymongo import MongoClient\n",
        "from PIL import Image\n",
        "import io\n",
        "\n",
        "client = pymongo.MongoClient(\"mongodb+srv://<username>:<password>@cluster0.o6jct.mongodb.net/myFirstDatabase?retryWrites=true&w=majority\")\n",
        "db = client.Guvi\n",
        "records =db.Assignment\n",
        "\n",
        "records.create_index('Gmail',unique=True)                                       #create unique key for gmail\n",
        "\n",
        "n=input('Enter full name:\\t')                                                   #enter name\n",
        "m=input('Enter mobile number:\\t')                                               #mail id as input\n",
        "g=input('Enter mail id:\\t')                                                     #gmail as input\n",
        "g=g.lower()                                                                     #gmail to lower case\n",
        "\n",
        "img_a=input('enter image address:\\t')\n",
        "img_for=input('enter image format:\\t')\n",
        "img_for=img_for.upper()\n",
        "\n",
        "im=Image.open(img_a)                                                            #open image\n",
        "image_bytes=io.BytesIO()                                        \n",
        "im.save(image_bytes,format= img_for)\n",
        "\n",
        "def check():\n",
        "  if m.isdigit()==True and len(m)==10 and g.endswith(\"@gmail.com\") and g[:-10].isalnum()==True:            #check the conditions for mobile no and mail\n",
        "    d={\n",
        "    'Name':n.title(), \n",
        "    'Mob_no':m,\n",
        "    'Gmail':g,                                                                  #print if all conditions satisfied\n",
        "    'image':image_bytes.getvalue()\n",
        "    }\n",
        "    records.insert_one(d)                                                       #insert the dict1 into records\n",
        "    print('\\nHurry ! ! ! Dict is inserted')\n",
        "\n",
        "try:                                                                            #if all conditions are satisfied\n",
        "  check()\n",
        "\n",
        "except:                                                                         #what if all conditions are not satisfied?\n",
        "  print(\"\\nOoops ! ! ! Dict not inserted. Please enter the inputs again.\")\n",
        "  print(\"\"\"Make sure that:\n",
        "    1. You don't have any constrains to input name.\n",
        "    2. Your mobile number must consists of numbers only and the length must be exactly 10.\n",
        "    3. Your gmail must be made out of a combination of alphabets and numbers,as well as must end with \\'@gmail.com\\'\"\"\")\n",
        "\n"
      ]
    }
  ]
}